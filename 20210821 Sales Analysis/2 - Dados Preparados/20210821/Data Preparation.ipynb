{
 "cells": [
  {
   "cell_type": "markdown",
   "id": "c1fabfcb",
   "metadata": {},
   "source": [
    "## Data Preparation Tool"
   ]
  },
  {
   "cell_type": "code",
   "execution_count": 2,
   "id": "ef694623",
   "metadata": {},
   "outputs": [],
   "source": [
    "import pandas as pd\n",
    "import numpy as np\n",
    "import os"
   ]
  },
  {
   "cell_type": "code",
   "execution_count": null,
   "id": "c87b58f0",
   "metadata": {},
   "outputs": [],
   "source": [
    "## Dont need to execute again if file is already merged\n",
    "# Merging 12 months into single CSV file\n",
    "files = [file for file in os.listdir('./Sales_Data')]\n",
    "allData = pd.DataFrame()\n",
    "\n",
    "for file in files:\n",
    "    df = pd.read_csv(\"./Sales_Data/\" + file)\n",
    "    allData = pd.concat([allData, df])\n",
    "\n",
    "allData.to_csv('allData.csv',index=False)"
   ]
  },
  {
   "cell_type": "markdown",
   "id": "99cfa662",
   "metadata": {},
   "source": [
    "#### Reading updated Dataset and making initial analysis"
   ]
  },
  {
   "cell_type": "code",
   "execution_count": 3,
   "id": "40fc27d5",
   "metadata": {},
   "outputs": [
    {
     "data": {
      "text/html": [
       "<div>\n",
       "<style scoped>\n",
       "    .dataframe tbody tr th:only-of-type {\n",
       "        vertical-align: middle;\n",
       "    }\n",
       "\n",
       "    .dataframe tbody tr th {\n",
       "        vertical-align: top;\n",
       "    }\n",
       "\n",
       "    .dataframe thead th {\n",
       "        text-align: right;\n",
       "    }\n",
       "</style>\n",
       "<table border=\"1\" class=\"dataframe\">\n",
       "  <thead>\n",
       "    <tr style=\"text-align: right;\">\n",
       "      <th></th>\n",
       "      <th>OrderId</th>\n",
       "      <th>Product</th>\n",
       "      <th>QuantityOrdered</th>\n",
       "      <th>PriceEach</th>\n",
       "      <th>OrderDate</th>\n",
       "      <th>PurchaseAddress</th>\n",
       "    </tr>\n",
       "  </thead>\n",
       "  <tbody>\n",
       "    <tr>\n",
       "      <th>0</th>\n",
       "      <td>176558</td>\n",
       "      <td>USB-C Charging Cable</td>\n",
       "      <td>2</td>\n",
       "      <td>11.95</td>\n",
       "      <td>04/19/19 08:46</td>\n",
       "      <td>917 1st St, Dallas, TX 75001</td>\n",
       "    </tr>\n",
       "    <tr>\n",
       "      <th>1</th>\n",
       "      <td>176559</td>\n",
       "      <td>Bose SoundSport Headphones</td>\n",
       "      <td>1</td>\n",
       "      <td>99.99</td>\n",
       "      <td>04/07/19 22:30</td>\n",
       "      <td>682 Chestnut St, Boston, MA 02215</td>\n",
       "    </tr>\n",
       "    <tr>\n",
       "      <th>2</th>\n",
       "      <td>176560</td>\n",
       "      <td>Google Phone</td>\n",
       "      <td>1</td>\n",
       "      <td>600</td>\n",
       "      <td>04/12/19 14:38</td>\n",
       "      <td>669 Spruce St, Los Angeles, CA 90001</td>\n",
       "    </tr>\n",
       "    <tr>\n",
       "      <th>3</th>\n",
       "      <td>176560</td>\n",
       "      <td>Wired Headphones</td>\n",
       "      <td>1</td>\n",
       "      <td>11.99</td>\n",
       "      <td>04/12/19 14:38</td>\n",
       "      <td>669 Spruce St, Los Angeles, CA 90001</td>\n",
       "    </tr>\n",
       "    <tr>\n",
       "      <th>4</th>\n",
       "      <td>176561</td>\n",
       "      <td>Wired Headphones</td>\n",
       "      <td>1</td>\n",
       "      <td>11.99</td>\n",
       "      <td>04/30/19 09:27</td>\n",
       "      <td>333 8th St, Los Angeles, CA 90001</td>\n",
       "    </tr>\n",
       "  </tbody>\n",
       "</table>\n",
       "</div>"
      ],
      "text/plain": [
       "  OrderId                     Product QuantityOrdered PriceEach  \\\n",
       "0  176558        USB-C Charging Cable               2     11.95   \n",
       "1  176559  Bose SoundSport Headphones               1     99.99   \n",
       "2  176560                Google Phone               1       600   \n",
       "3  176560            Wired Headphones               1     11.99   \n",
       "4  176561            Wired Headphones               1     11.99   \n",
       "\n",
       "        OrderDate                       PurchaseAddress  \n",
       "0  04/19/19 08:46          917 1st St, Dallas, TX 75001  \n",
       "1  04/07/19 22:30     682 Chestnut St, Boston, MA 02215  \n",
       "2  04/12/19 14:38  669 Spruce St, Los Angeles, CA 90001  \n",
       "3  04/12/19 14:38  669 Spruce St, Los Angeles, CA 90001  \n",
       "4  04/30/19 09:27     333 8th St, Los Angeles, CA 90001  "
      ]
     },
     "execution_count": 3,
     "metadata": {},
     "output_type": "execute_result"
    }
   ],
   "source": [
    "# Reading updated dataset \n",
    "columnsNames = ['OrderId','Product','QuantityOrdered','PriceEach','OrderDate','PurchaseAddress']\n",
    "dataset = pd.read_csv('allData.csv', header=0, names=columnsNames)\n",
    "dataset.head()"
   ]
  },
  {
   "cell_type": "code",
   "execution_count": 4,
   "id": "b27b3073",
   "metadata": {},
   "outputs": [
    {
     "name": "stdout",
     "output_type": "stream",
     "text": [
      "columns:  Index(['OrderId', 'Product', 'QuantityOrdered', 'PriceEach', 'OrderDate',\n",
      "       'PurchaseAddress'],\n",
      "      dtype='object') \n",
      "\n",
      "dtypes:  OrderId            object\n",
      "Product            object\n",
      "QuantityOrdered    object\n",
      "PriceEach          object\n",
      "OrderDate          object\n",
      "PurchaseAddress    object\n",
      "dtype: object \n",
      "\n",
      "Shape:  (186849, 6) \n",
      "\n"
     ]
    }
   ],
   "source": [
    "# Checking dataset interest info\n",
    "print('columns: ',dataset.columns, '\\n')\n",
    "print('dtypes: ',dataset.dtypes, '\\n')\n",
    "print('Shape: ', dataset.shape, '\\n')"
   ]
  },
  {
   "cell_type": "code",
   "execution_count": 5,
   "id": "5c33999b",
   "metadata": {},
   "outputs": [
    {
     "data": {
      "text/html": [
       "<div>\n",
       "<style scoped>\n",
       "    .dataframe tbody tr th:only-of-type {\n",
       "        vertical-align: middle;\n",
       "    }\n",
       "\n",
       "    .dataframe tbody tr th {\n",
       "        vertical-align: top;\n",
       "    }\n",
       "\n",
       "    .dataframe thead th {\n",
       "        text-align: right;\n",
       "    }\n",
       "</style>\n",
       "<table border=\"1\" class=\"dataframe\">\n",
       "  <thead>\n",
       "    <tr style=\"text-align: right;\">\n",
       "      <th></th>\n",
       "      <th>OrderId</th>\n",
       "      <th>Product</th>\n",
       "      <th>QuantityOrdered</th>\n",
       "      <th>PriceEach</th>\n",
       "      <th>OrderDate</th>\n",
       "      <th>PurchaseAddress</th>\n",
       "    </tr>\n",
       "  </thead>\n",
       "  <tbody>\n",
       "  </tbody>\n",
       "</table>\n",
       "</div>"
      ],
      "text/plain": [
       "Empty DataFrame\n",
       "Columns: [OrderId, Product, QuantityOrdered, PriceEach, OrderDate, PurchaseAddress]\n",
       "Index: []"
      ]
     },
     "execution_count": 5,
     "metadata": {},
     "output_type": "execute_result"
    }
   ],
   "source": [
    "# Removing NaN entries from interest data (OrderDate, PriceEach, QuantityOrdered)\n",
    "dataset.dropna(subset=['OrderDate','PriceEach','QuantityOrdered'], how='any', inplace=True)\n",
    "dataset[dataset.isna().any(axis=1)] # check if there are NaN values"
   ]
  },
  {
   "cell_type": "code",
   "execution_count": 6,
   "id": "e75022f9",
   "metadata": {},
   "outputs": [
    {
     "data": {
      "text/plain": [
       "Int64Index([], dtype='int64')"
      ]
     },
     "execution_count": 6,
     "metadata": {},
     "output_type": "execute_result"
    }
   ],
   "source": [
    "# Correcting duplicated index lines from merge\n",
    "dataset.drop(dataset.loc[dataset.OrderDate == 'Order Date'].index, axis=0, inplace = True)\n",
    "dataset.loc[dataset.OrderDate == 'Order Date'].index # check if there are duplicated"
   ]
  },
  {
   "cell_type": "code",
   "execution_count": 8,
   "id": "7734e12e",
   "metadata": {},
   "outputs": [],
   "source": [
    "# Correcting columns format\n",
    "dataset['QuantityOrdered'] = dataset.QuantityOrdered.astype(int)\n",
    "dataset['PriceEach'] = dataset.PriceEach.astype(float)\n",
    "dataset['OrderDate'] = pd.to_datetime(dataset['OrderDate'])"
   ]
  },
  {
   "cell_type": "code",
   "execution_count": 9,
   "id": "ffb5d49d",
   "metadata": {},
   "outputs": [],
   "source": [
    "# If already created, dont execute again\n",
    "dataset.to_csv(r'D:\\Learning\\EstudosDataScience\\Projetos\\20210821 Sales Analysis\\3 - Dados de Upload\\20210821\\dataset.csv',index=False)"
   ]
  },
  {
   "cell_type": "code",
   "execution_count": 10,
   "id": "2df3619b",
   "metadata": {},
   "outputs": [
    {
     "data": {
      "text/plain": [
       "0     11.95\n",
       "1     99.99\n",
       "2    600.00\n",
       "3     11.99\n",
       "4     11.99\n",
       "Name: PriceEach, dtype: float64"
      ]
     },
     "execution_count": 10,
     "metadata": {},
     "output_type": "execute_result"
    }
   ],
   "source": [
    "dataset.PriceEach.head()"
   ]
  },
  {
   "cell_type": "code",
   "execution_count": null,
   "id": "233e2dbe",
   "metadata": {},
   "outputs": [],
   "source": [
    "dataset.PriceEach.astype"
   ]
  }
 ],
 "metadata": {
  "kernelspec": {
   "display_name": "Python 3",
   "language": "python",
   "name": "python3"
  },
  "language_info": {
   "codemirror_mode": {
    "name": "ipython",
    "version": 3
   },
   "file_extension": ".py",
   "mimetype": "text/x-python",
   "name": "python",
   "nbconvert_exporter": "python",
   "pygments_lexer": "ipython3",
   "version": "3.8.8"
  }
 },
 "nbformat": 4,
 "nbformat_minor": 5
}
