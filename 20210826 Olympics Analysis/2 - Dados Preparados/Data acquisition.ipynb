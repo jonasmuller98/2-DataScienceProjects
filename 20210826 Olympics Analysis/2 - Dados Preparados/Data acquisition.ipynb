{
 "cells": [
  {
   "cell_type": "code",
   "execution_count": 1,
   "id": "14f8735b",
   "metadata": {},
   "outputs": [],
   "source": [
    "from bs4 import BeautifulSoup as bs\n",
    "import requests\n",
    "import json\n",
    "import pandas as pd"
   ]
  },
  {
   "cell_type": "markdown",
   "id": "266a266c",
   "metadata": {},
   "source": [
    "## Olympic Medals Data Acquisition"
   ]
  },
  {
   "cell_type": "code",
   "execution_count": 2,
   "id": "b2662e8a",
   "metadata": {},
   "outputs": [],
   "source": [
    "# Load web page \n",
    "webPage = requests.get('https://en.wikipedia.org/wiki/All-time_Olympic_Games_medal_table')\n",
    "# Convert into bs object\n",
    "soup = bs(webPage.content)"
   ]
  },
  {
   "cell_type": "code",
   "execution_count": 97,
   "id": "736f5ab1",
   "metadata": {},
   "outputs": [],
   "source": [
    "infoBox = soup.find(class_='wikitable sortable')\n",
    "infoRows = infoBox.find_all(\"td\")"
   ]
  },
  {
   "cell_type": "code",
   "execution_count": 127,
   "id": "03e1407b",
   "metadata": {},
   "outputs": [],
   "source": [
    "'''\n",
    "SOG = Summer Olympic Games\n",
    "WOG = Winter Olympic Games\n",
    "\n",
    "'Team'\n",
    "'NgamesSOG'\n",
    "'Gold SOG'\n",
    "'Silver SOG'\n",
    "'Bronze SOG'\n",
    "'Total SOG'\n",
    "'NgamesWOG'\n",
    "'Gold WOG'\n",
    "'Silver WOG'\n",
    "'Bronze WOG'\n",
    "'Total WOG'\n",
    "'NgamesCombined'\n",
    "'Gold Combined'\n",
    "'Silver Combined'\n",
    "'Bronze Combined'\n",
    "'Total Combined'\n",
    "\n",
    "'''\n",
    "\n",
    "contentKeys = ['Team','NgamesSOG', 'Gold SOG', 'Silver SOG', 'Bronze SOG','Total SOG','NgamesWOG', 'Gold WOG', 'Silver WOG', 'Bronze WOG','Total WOG','NgamesCombined', 'Gold Combined', 'Silver Combined', 'Bronze Combined','Total Combined']\n",
    "contentValue = []\n",
    "\n",
    "for index,row in enumerate(infoRows):\n",
    "    contentValue.append(row.get_text())    \n",
    "\n",
    "olympicData = {k: [] for k in contentKeys}\n",
    "count = 0\n",
    "\n",
    "for row,item in enumerate(contentValue):\n",
    "    olympicData[contentKeys[count]].append(contentValue[row])\n",
    "    count += 1\n",
    "    if count > 15:\n",
    "        count = 0"
   ]
  },
  {
   "cell_type": "code",
   "execution_count": 132,
   "id": "d01bebe3",
   "metadata": {},
   "outputs": [],
   "source": [
    "# Saving to json file\n",
    "def save_data(title, data):\n",
    "    with open(title, 'w', encoding='utf-8') as f:\n",
    "        json.dump(data, f, ensure_ascii=False, indent=2)\n",
    "\n",
    "save_data('olympics_medals_dataset.json', olympicData)"
   ]
  },
  {
   "cell_type": "markdown",
   "id": "9ebc1976",
   "metadata": {},
   "source": [
    "## Country Wealth Data Acquisition"
   ]
  },
  {
   "cell_type": "code",
   "execution_count": 8,
   "id": "f615e6dd",
   "metadata": {},
   "outputs": [],
   "source": [
    "# Load web page --- global wealth databook\n",
    "webPage = requests.get('https://en.wikipedia.org/wiki/List_of_countries_by_wealth_per_adult')\n",
    "# Convert into bs object\n",
    "soup = bs(webPage.content)"
   ]
  },
  {
   "cell_type": "code",
   "execution_count": 33,
   "id": "1cc561fe",
   "metadata": {},
   "outputs": [],
   "source": [
    "infoBox = soup.find_all(class_='wikitable')[1]\n",
    "infoRows = infoBox.find_all(\"td\")"
   ]
  },
  {
   "cell_type": "code",
   "execution_count": 35,
   "id": "63a3b573",
   "metadata": {},
   "outputs": [],
   "source": [
    "infoRows = infoBox.find_all(\"td\")"
   ]
  },
  {
   "cell_type": "code",
   "execution_count": 42,
   "id": "aee24269",
   "metadata": {},
   "outputs": [],
   "source": [
    "contentValue = []\n",
    "contentKeys = ['Country','Median','Mean','Gini','Adults']\n",
    "\n",
    "for index,row in enumerate(infoRows):\n",
    "    contentValue.append(row.get_text())\n",
    "\n",
    "countryWealthData = {k: [] for k in contentKeys}\n",
    "count = 0\n",
    "\n",
    "for row,item in enumerate(contentValue):\n",
    "    countryWealthData[contentKeys[count]].append(contentValue[row])\n",
    "    count += 1\n",
    "    if count > 4:\n",
    "        count = 0"
   ]
  },
  {
   "cell_type": "code",
   "execution_count": 46,
   "id": "61cafab2",
   "metadata": {},
   "outputs": [],
   "source": [
    "save_data('country_wealth_dataset.json', countryWealthData)"
   ]
  },
  {
   "cell_type": "markdown",
   "id": "ab0d7f9b",
   "metadata": {},
   "source": [
    "## Country Education Data Acquistion"
   ]
  },
  {
   "cell_type": "code",
   "execution_count": 47,
   "id": "54e249f0",
   "metadata": {},
   "outputs": [],
   "source": [
    "# Load web page --- global wealth databook\n",
    "webPage = requests.get('https://en.wikipedia.org/wiki/Education_Index')\n",
    "# Convert into bs object\n",
    "soup = bs(webPage.content)"
   ]
  },
  {
   "cell_type": "code",
   "execution_count": 65,
   "id": "65b433d1",
   "metadata": {},
   "outputs": [],
   "source": [
    "infoBox = soup.find(class_='wikitable')\n",
    "infoRows = infoBox.find_all('td')\n",
    "infoKeys = infoBox.find('tr')"
   ]
  },
  {
   "cell_type": "code",
   "execution_count": 79,
   "id": "21eec6d0",
   "metadata": {},
   "outputs": [],
   "source": [
    "contentValue = []\n",
    "contentKeys = infoKeys.get_text(' ', strip=True).split(' ')\n",
    "\n",
    "for index,row in enumerate(infoRows):\n",
    "    contentValue.append(row.get_text())\n",
    "    \n",
    "countryEducationData = {k: [] for k in contentKeys}\n",
    "count = 0\n",
    "\n",
    "for row,item in enumerate(contentValue):\n",
    "    countryEducationData[contentKeys[count]].append(contentValue[row])\n",
    "    count += 1\n",
    "    if count > 30:\n",
    "        count = 0"
   ]
  },
  {
   "cell_type": "code",
   "execution_count": 82,
   "id": "31cb9da2",
   "metadata": {},
   "outputs": [],
   "source": [
    "save_data('country_education_dataset.json', countryEducationData)"
   ]
  },
  {
   "cell_type": "code",
   "execution_count": null,
   "id": "c040c322",
   "metadata": {},
   "outputs": [],
   "source": []
  }
 ],
 "metadata": {
  "kernelspec": {
   "display_name": "Python 3",
   "language": "python",
   "name": "python3"
  },
  "language_info": {
   "codemirror_mode": {
    "name": "ipython",
    "version": 3
   },
   "file_extension": ".py",
   "mimetype": "text/x-python",
   "name": "python",
   "nbconvert_exporter": "python",
   "pygments_lexer": "ipython3",
   "version": "3.8.8"
  }
 },
 "nbformat": 4,
 "nbformat_minor": 5
}
