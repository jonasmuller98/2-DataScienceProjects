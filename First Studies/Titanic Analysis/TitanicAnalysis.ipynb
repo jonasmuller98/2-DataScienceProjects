{
 "cells": [
  {
   "cell_type": "markdown",
   "metadata": {},
   "source": [
    " # TITANIC DATASET ANALYSIS"
   ]
  },
  {
   "cell_type": "code",
   "execution_count": null,
   "metadata": {
    "collapsed": true
   },
   "outputs": [],
   "source": [
    "# This analysis is for study purposes only without using pandas, only pure python"
   ]
  },
  {
   "cell_type": "code",
   "execution_count": null,
   "metadata": {
    "collapsed": true
   },
   "outputs": [],
   "source": [
    "# First Step -> Read file and get data\n",
    "titanic_csv = open('titanic.csv','r') # Abrir o arquivo\n",
    "titanic_csv.seek(0) # Define a linha 0\n",
    "linhas = titanic_csv.readlines() # Cuidado, somente 1x, senão o ponteiro lê do próximo\n",
    "titanic_csv.close() # Fechar o arquivo"
   ]
  },
  {
   "cell_type": "code",
   "execution_count": 2,
   "metadata": {
    "collapsed": true
   },
   "outputs": [],
   "source": [
    "# Second Step -> Treating data\n",
    "# Defining regular expression for changing name positions and excluding comma -- Surname, Name -> Name Surname\n",
    "def tratar_nome(linha):\n",
    "    import re\n",
    "    match = re.compile(r'\"(.*)(,)(\\s.*)\"')\n",
    "    return match.sub(r'\"\\3 \\1\"', linha)\n",
    "\n",
    "# Treating every entry\n",
    "linhaTratada = []\n",
    "for i in range(1,len(linhas)):\n",
    "    linhaTratada.append(tratar_nome(linhas[i]))\n",
    "\n",
    "# Splitting columms into list\n",
    "colunas = linhas[0].split(',')"
   ]
  },
  {
   "cell_type": "code",
   "execution_count": 3,
   "metadata": {
    "collapsed": true
   },
   "outputs": [],
   "source": [
    "# Splitting data into lists\n",
    "linhaTratadaSplit = []\n",
    "for j in range(0,len(linhas)-1):\n",
    "    linhaTratadaSplit.append(linhaTratada[j].split(',')) "
   ]
  },
  {
   "cell_type": "code",
   "execution_count": 4,
   "metadata": {
    "collapsed": true
   },
   "outputs": [],
   "source": [
    "# Defining keys for dict \n",
    "titanic_dados = {}\n",
    "for coluna in colunas:\n",
    "    titanic_dados[coluna] = [] "
   ]
  },
  {
   "cell_type": "code",
   "execution_count": 5,
   "metadata": {
    "collapsed": true
   },
   "outputs": [],
   "source": [
    "# Defining values for dict according to keys\n",
    "for linha1 in range(0,len(linhaTratadaSplit)):\n",
    "    col = 0\n",
    "    for coluna in colunas:\n",
    "        titanic_dados[coluna].append(linhaTratadaSplit[linha1][col]) \n",
    "        col += 1"
   ]
  },
  {
   "cell_type": "code",
   "execution_count": null,
   "metadata": {
    "collapsed": true
   },
   "outputs": [],
   "source": [
    "# Printing data\n",
    "for indice,dado in enumerate(titanic_dados[datatype]):\n",
    "    for datatype in colunas:\n",
    "        value = titanic_dados[datatype][indice]\n",
    "        print('Dado: ',datatype,'Valor: ',value,'Índice: ',indice)"
   ]
  },
  {
   "cell_type": "code",
   "execution_count": 6,
   "metadata": {
    "collapsed": true
   },
   "outputs": [],
   "source": [
    "# Converting str to float and treating non existing values\n",
    "titanic_dados['AgeInt'] = []\n",
    "for idd,val in enumerate(titanic_dados['Age']):\n",
    "    if titanic_dados['Age'][idd] == '':\n",
    "        titanic_dados['Age'][idd] = -1\n",
    "    else:\n",
    "        titanic_dados['Age'][idd] = float(val)"
   ]
  },
  {
   "cell_type": "code",
   "execution_count": 14,
   "metadata": {},
   "outputs": [],
   "source": [
    "# Creating new age list to avoid -1 problems\n",
    "listaIdades = []\n",
    "for eNum in titanic_dados['Age']:\n",
    "    if eNum != -1:\n",
    "        listaIdades.append(eNum)"
   ]
  },
  {
   "cell_type": "code",
   "execution_count": 20,
   "metadata": {
    "collapsed": true
   },
   "outputs": [],
   "source": [
    "# Age Statistics\n",
    "def media(listaIdades):\n",
    "    soma = sum(listaIdades)\n",
    "    entradas = len(listaIdades)\n",
    "    media = soma/entradas\n",
    "    return media\n",
    "\n",
    "mediaIdades = media(listaIdades)\n",
    "\n",
    "# Setting every -1 value as the media (this way we wont affect the overall media)\n",
    "for idd, value in enumerate(titanic_dados['Age']):\n",
    "    if value == -1:\n",
    "        titanic_dados['Age'][idd] = mediaIdades"
   ]
  },
  {
   "cell_type": "code",
   "execution_count": null,
   "metadata": {
    "collapsed": true
   },
   "outputs": [],
   "source": []
  }
 ],
 "metadata": {
  "kernelspec": {
   "display_name": "Python 3",
   "language": "python",
   "name": "python3"
  },
  "language_info": {
   "codemirror_mode": {
    "name": "ipython",
    "version": 3
   },
   "file_extension": ".py",
   "mimetype": "text/x-python",
   "name": "python",
   "nbconvert_exporter": "python",
   "pygments_lexer": "ipython3",
   "version": "3.8.8"
  }
 },
 "nbformat": 4,
 "nbformat_minor": 2
}
